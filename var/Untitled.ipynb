{
 "cells": [
  {
   "cell_type": "markdown",
   "id": "f0be88f4-8d42-449b-832e-49ede4ecd597",
   "metadata": {},
   "source": [
    "# Class `TransferFunction`\n",
    "\n",
    "Testing `control.TransferFunction` vs `scipy.signal.TransferFunction` for class building\n",
    "\n"
   ]
  },
  {
   "cell_type": "code",
   "execution_count": 1,
   "id": "d0607595-6674-4394-abb0-b4d0b28e0359",
   "metadata": {},
   "outputs": [],
   "source": [
    "import scipy.signal\n",
    "import control\n",
    "\n"
   ]
  },
  {
   "cell_type": "code",
   "execution_count": 2,
   "id": "bfb3f7ac-caaa-4d40-b9e9-8a347dc836e7",
   "metadata": {},
   "outputs": [],
   "source": [
    "stf = scipy.signal.TransferFunction(1, [1,2,1])\n",
    "\n",
    "ctf = control.TransferFunction(1, [1,2,1])"
   ]
  },
  {
   "cell_type": "code",
   "execution_count": 3,
   "id": "de447fab-fb36-48c8-b526-7d887f0e8dca",
   "metadata": {},
   "outputs": [
    {
     "data": {
      "text/plain": [
       "False"
      ]
     },
     "execution_count": 3,
     "metadata": {},
     "output_type": "execute_result"
    }
   ],
   "source": [
    "stf==ctf"
   ]
  },
  {
   "cell_type": "code",
   "execution_count": 4,
   "id": "0c5b3cf7-0694-4ef0-9894-42978f0ffbfa",
   "metadata": {},
   "outputs": [],
   "source": [
    "sw, smag, sphase = stf.bode()"
   ]
  },
  {
   "cell_type": "code",
   "execution_count": 5,
   "id": "e143c9e1-acfa-4131-97c6-75f26ee7d325",
   "metadata": {},
   "outputs": [
    {
     "data": {
      "text/plain": [
       "(True, False)"
      ]
     },
     "execution_count": 5,
     "metadata": {},
     "output_type": "execute_result"
    }
   ],
   "source": [
    "type(ctf.returnScipySignalLTI()[0][0])==type(stf), type(ctf)==type(stf)"
   ]
  },
  {
   "cell_type": "code",
   "execution_count": 9,
   "id": "92a4d042-adfa-4a44-a43d-0f2df1cd0d73",
   "metadata": {},
   "outputs": [
    {
     "data": {
      "text/plain": [
       "(TransferFunctionContinuous(\n",
       " array([1.]),\n",
       " array([1., 2., 1.]),\n",
       " dt: None\n",
       " ),\n",
       " TransferFunction(array([1]), array([1, 2, 1])))"
      ]
     },
     "execution_count": 9,
     "metadata": {},
     "output_type": "execute_result"
    }
   ],
   "source": [
    "stf,ctf"
   ]
  },
  {
   "cell_type": "code",
   "execution_count": 10,
   "id": "a502c4a3-b05e-43bd-8148-55e8c28562ab",
   "metadata": {},
   "outputs": [],
   "source": [
    "model =scipy.signal.lti([5], [1,3,1/1000])"
   ]
  },
  {
   "cell_type": "code",
   "execution_count": 11,
   "id": "861e1929-2d02-40c7-90eb-7600175de868",
   "metadata": {},
   "outputs": [],
   "source": [
    "w, mag, ph = model.bode()\n"
   ]
  },
  {
   "cell_type": "code",
   "execution_count": null,
   "id": "598ab34e-84b7-4af2-bfe3-1369a67006b6",
   "metadata": {},
   "outputs": [],
   "source": []
  },
  {
   "cell_type": "code",
   "execution_count": 15,
   "id": "02fd8a65-a5eb-47f3-933f-83804c8cd188",
   "metadata": {},
   "outputs": [
    {
     "data": {
      "image/png": "[encoded data removed]",
      "text/plain": [
       "<Figure size 432x288 with 2 Axes>"
      ]
     },
     "metadata": {
      "needs_background": "light"
     },
     "output_type": "display_data"
    }
   ],
   "source": [
    "import matplotlib.pyplot as plt\n",
    "fig, ax = plt.subplots()\n",
    "ax.plot(w,mag,color='k',label='Gain')\n",
    "ax.set_ylabel('Gain')\n",
    "ax.semilogx()\n",
    "ax2 = ax.twinx()\n",
    "ax2.set_ylabel('Phase')\n",
    "ax2.plot(w,ph,color='r',label='Phase')\n",
    "ax.set_xlabel('Frequency')\n",
    "#ax.grid()\n",
    "ax.grid()"
   ]
  },
  {
   "cell_type": "code",
   "execution_count": null,
   "id": "567cc9b7-e12e-4617-9dfd-8f7120d2c80e",
   "metadata": {},
   "outputs": [],
   "source": []
  },
  {
   "cell_type": "code",
   "execution_count": null,
   "id": "0106955e-ad4f-41cd-8b13-7f7c51174102",
   "metadata": {},
   "outputs": [],
   "source": []
  }
 ],
 "metadata": {
  "kernelspec": {
   "display_name": "Python 3",
   "language": "python",
   "name": "python3"
  },
  "language_info": {
   "codemirror_mode": {
    "name": "ipython",
    "version": 3
   },
   "file_extension": ".py",
   "mimetype": "text/x-python",
   "name": "python",
   "nbconvert_exporter": "python",
   "pygments_lexer": "ipython3",
   "version": "3.9.12"
  }
 },
 "nbformat": 4,
 "nbformat_minor": 5
}
