{
 "cells": [
  {
   "cell_type": "markdown",
   "id": "f0be88f4-8d42-449b-832e-49ede4ecd597",
   "metadata": {},
   "source": [
    "# Class `TransferFunction`\n",
    "\n",
    "Testing `control.TransferFunction` vs `scipy.signal.TransferFunction` for class building\n",
    "\n"
   ]
  },
  {
   "cell_type": "code",
   "execution_count": 1,
   "id": "d0607595-6674-4394-abb0-b4d0b28e0359",
   "metadata": {},
   "outputs": [],
   "source": [
    "import scipy.signal\n",
    "import control\n",
    "\n"
   ]
  },
  {
   "cell_type": "code",
   "execution_count": 8,
   "id": "bfb3f7ac-caaa-4d40-b9e9-8a347dc836e7",
   "metadata": {},
   "outputs": [],
   "source": [
    "stf = scipy.signal.TransferFunction(1, [1,2,1])\n",
    "\n",
    "ctf = control.TransferFunction(1, [1,2,1])"
   ]
  },
  {
   "cell_type": "code",
   "execution_count": 9,
   "id": "de447fab-fb36-48c8-b526-7d887f0e8dca",
   "metadata": {},
   "outputs": [
    {
     "data": {
      "text/plain": [
       "False"
      ]
     },
     "execution_count": 9,
     "metadata": {},
     "output_type": "execute_result"
    }
   ],
   "source": [
    "stf==ctf"
   ]
  },
  {
   "cell_type": "code",
   "execution_count": 12,
   "id": "0c5b3cf7-0694-4ef0-9894-42978f0ffbfa",
   "metadata": {},
   "outputs": [],
   "source": [
    "sw, smag, sphase = stf.bode()"
   ]
  },
  {
   "cell_type": "code",
   "execution_count": 23,
   "id": "e143c9e1-acfa-4131-97c6-75f26ee7d325",
   "metadata": {},
   "outputs": [
    {
     "data": {
      "text/plain": [
       "(True, False)"
      ]
     },
     "execution_count": 23,
     "metadata": {},
     "output_type": "execute_result"
    }
   ],
   "source": [
    "type(ctf.returnScipySignalLTI()[0][0])==type(stf), type(ctf)==type(stf)"
   ]
  },
  {
   "cell_type": "code",
   "execution_count": null,
   "id": "92a4d042-adfa-4a44-a43d-0f2df1cd0d73",
   "metadata": {},
   "outputs": [],
   "source": []
  }
 ],
 "metadata": {
  "kernelspec": {
   "display_name": "Python 3",
   "language": "python",
   "name": "python3"
  },
  "language_info": {
   "codemirror_mode": {
    "name": "ipython",
    "version": 3
   },
   "file_extension": ".py",
   "mimetype": "text/x-python",
   "name": "python",
   "nbconvert_exporter": "python",
   "pygments_lexer": "ipython3",
   "version": "3.9.12"
  }
 },
 "nbformat": 4,
 "nbformat_minor": 5
}
